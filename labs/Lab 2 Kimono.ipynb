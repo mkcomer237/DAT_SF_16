{
 "cells": [
  {
   "cell_type": "code",
   "execution_count": 2,
   "metadata": {
    "collapsed": false
   },
   "outputs": [],
   "source": [
    "api_key = 'Rm9Em3kl0DCGV5SWQ01wf0ZUG4JufvxV'"
   ]
  },
  {
   "cell_type": "code",
   "execution_count": null,
   "metadata": {
    "collapsed": false
   },
   "outputs": [],
   "source": [
    "import json\n",
    "import urllib\n",
    "\n",
    "startyear = 2002\n",
    "endyear = 2002\n",
    "url = \"https://www.kimonolabs.com/api/ondemand/7q3deoj4?apikey=%s&release_date=%s\" % (api_key, startyear)\n",
    "#url = \"https://www.kimonolabs.com/api/7q3deoj4?apikey=%s\" % (api_key)\n",
    "\n",
    "\n",
    "print url\n",
    "\n",
    "\n",
    "raw = urllib.urlopen(url)\n",
    "print raw.readlines()\n",
    "results = json.load(urllib.urlopen(url))\n",
    "\n",
    "#print \"crap\"\n",
    "print results\n"
   ]
  },
  {
   "cell_type": "code",
   "execution_count": 12,
   "metadata": {
    "collapsed": false
   },
   "outputs": [
    {
     "name": "stdout",
     "output_type": "stream",
     "text": [
      "hello\n"
     ]
    }
   ],
   "source": [
    "print 'hello'"
   ]
  },
  {
   "cell_type": "code",
   "execution_count": 25,
   "metadata": {
    "collapsed": false
   },
   "outputs": [
    {
     "name": "stdout",
     "output_type": "stream",
     "text": [
      "{u'count': 50, u'name': u'imdb_movies', u'results': {u'collection1': [{u'sales': u'$286M', u'year': u'(1990)', u'description': u'An 8-year old troublemaker must protect his home from a pair of burglars when he is accidentally left home alone by his family during Christmas vacation.', u'title': {u'text': u'Home Alone', u'href': u'http://www.imdb.com/title/tt0099785/'}}, {u'sales': u'$218M', u'year': u'(1990)', u'description': u\"After being killed during a botched mugging, a man's love for his partner enables him to remain on earth as a ghost.\", u'title': {u'text': u'Ghost', u'href': u'http://www.imdb.com/title/tt0099653/'}}, {u'sales': u'$184M', u'year': u'(1990)', u'description': u'Lt. John Dunbar, exiled to a remote western Civil War outpost, befriends wolves and Indians, making him an intolerable aberration in the military.', u'title': {u'text': u'Dances with Wolves', u'href': u'http://www.imdb.com/title/tt0099348/'}}, {u'sales': u'$178M', u'year': u'(1990)', u'description': u'A man in a legal but hurtful business needs an escort for some social events, and hires a beautiful prostitute he meets... only to fall in love.', u'title': {u'text': u'Pretty Woman', u'href': u'http://www.imdb.com/title/tt0100405/'}}, {u'sales': u'$135M', u'year': u'(1990)', u'description': u'A group of mutated turtle warriors must emerge from the shadows to protect New York City from an uprising criminal gang of ninjas.', u'title': {u'text': u'Teenage Mutant Ninja Turtles', u'href': u'http://www.imdb.com/title/tt0100758/'}}, {u'sales': u'$122M', u'year': u'(1990)', u'description': u\"In 1984, the USSR's best submarine captain in their newest sub violates orders and heads for the USA. Is he trying to defect, or to start a war?\", u'title': {u'text': u'The Hunt for Red October', u'href': u'http://www.imdb.com/title/tt0099810/'}}, {u'sales': u'$119M', u'year': u'(1990)', u'description': u'When a man goes for virtual vacation memories of the planet Mars, an unexpected and harrowing series of events forces him to go to the planet for real, or does he?', u'title': {u'text': u'Total Recall', u'href': u'http://www.imdb.com/title/tt0100802/'}}, {u'sales': u'$118M', u'year': u'(1990)', u'description': u'John McClane attempts to avert disaster as rogue military officials seize control of Dulles International Airport in Washington, D.C.', u'title': {u'text': u'Die Hard 2', u'href': u'http://www.imdb.com/title/tt0099423/'}}, {u'sales': u'$104M', u'year': u'(1990)', u'description': u\"The comic strip detective finds his life vastly complicated when Breathless Mahoney makes advances towards him while he is trying to battle Big Boy Caprice's united mob.\", u'title': {u'text': u'Dick Tracy', u'href': u'http://www.imdb.com/title/tt0099422/'}}, {u'sales': u'$91.5M', u'year': u'(1990)', u'description': u'A tough cop is given his most difficult assignment ever: to masquerade as a kindergarten teacher in order to find a drug dealer.', u'title': {u'text': u'Kindergarten Cop', u'href': u'http://www.imdb.com/title/tt0099938/'}}, {u'sales': u'$87.7M', u'year': u'(1990)', u'description': u'Enjoying a peaceable existence in 1885, Doctor Emmet Brown is about to be killed by Buford \"Mad Dog\" Tannen. Marty McFly travels back in time to save his friend.', u'title': {u'text': u'Back to the Future Part III', u'href': u'http://www.imdb.com/title/tt0099088/'}}, {u'sales': u'$86.3M', u'year': u'(1990)', u'description': u'When the female deputy prosecutor R.K. Sabich had an affair with is murdered, he is chosen to lead the investigation. However, when he digs too deeply, he finds himself framed for the murder.', u'title': {u'text': u'Presumed Innocent', u'href': u'http://www.imdb.com/title/tt0100404/'}}, {u'sales': u'$82.7M', u'year': u'(1990)', u'description': u'A young hot-shot stock car driver gets his chance to compete at the top level.', u'title': {u'text': u'Days of Thunder', u'href': u'http://www.imdb.com/title/tt0099371/'}}, {u'sales': u'$80.8M', u'year': u'(1990)', u'description': u'Jack Cates once again enlists the aid of ex-con Reggie Hammond--this time, to take down The Iceman, a ruthless drug lord operating in the San Francisco bay area.', u'title': {u'text': u'Another 48 Hrs.', u'href': u'http://www.imdb.com/title/tt0099044/'}}, {u'sales': u'$71.6M', u'year': u'(1990)', u'description': u\"Sylvia's work increasingly takes her away from the three men who help bring up Mary, her daughter. When...\", u'title': {u'text': u'3 Men and a Little Lady', u'href': u'http://www.imdb.com/title/tt0098966/'}}, {u'sales': u'$71M', u'year': u'(1990)', u'description': u'An old flame discovers her ex-boyfriend from the past is a relocated FBI informant out to stop the bad guys.', u'title': {u'text': u'Bird on a Wire', u'href': u'http://www.imdb.com/title/tt0099141/'}}, {u'sales': u'$66.7M', u'year': u'(1990)', u'description': u'In the midst of trying to legitimize his business dealings in New York and Italy in 1979, aging Mafia don Michael Corleone seeks to avow for his sins while taking a young prot\\xe9g\\xe9 under his wing.', u'title': {u'text': u'The Godfather: Part III', u'href': u'http://www.imdb.com/title/tt0099674/'}}, {u'sales': u'$61.5M', u'year': u'(1990)', u'description': u'Four Medical students experiment on \"near death\" experiences that involve past tragedies until the dark consequences begin to jeopardize their lives.', u'title': {u'text': u'Flatliners', u'href': u'http://www.imdb.com/title/tt0099582/'}}, {u'sales': u'$61.3M', u'year': u'(1990)', u'description': u'Paul Sheldon, a successful novelist, is rescued after a snow storm by his \"Number One Fan\" and must rewrite his latest novel to her liking in order to stay alive.', u'title': {u'text': u'Misery', u'href': u'http://www.imdb.com/title/tt0100157/'}}, {u'sales': u'$56.4M', u'year': u'(1990)', u'description': u'An uncommonly gentle young man, who happens to have scissors for hands, falls in love with a beautiful girl.', u'title': {u'text': u'Edward Scissorhands', u'href': u'http://www.imdb.com/title/tt0099487/'}}, {u'sales': u'$53.5M', u'year': u'(1990)', u'description': u'A young boy is just short of a monster. He is adopted by a loving man and his wacky wife. The laughs keep coming as the boy pushes them to the limits.', u'title': {u'text': u'Problem Child', u'href': u'http://www.imdb.com/title/tt0100419/'}}, {u'sales': u'$53.1M', u'year': u'(1990)', u'description': u'A species of South American killer spider hitches a lift to the U.S. in a coffin and starts to breed and kill.', u'title': {u'text': u'Arachnophobia', u'href': u'http://www.imdb.com/title/tt0099052/'}}, {u'sales': u'$52.1M', u'year': u'(1990)', u'description': u'The victims of an encephalitis epidemic many years ago have been catatonic ever since, but now a new drug offers the prospect of reviving them.', u'title': {u'text': u'Awakenings', u'href': u'http://www.imdb.com/title/tt0099077/'}}, {u'sales': u'$47.5M', u'year': u'(1990)', u'description': u\"This time, a new baby is on the way, and it's a girl. Wrapped together with the standard conflict between mother and father, Mikey engages in a bit of sibling rivalry with his new sister.\", u'title': {u'text': u\"Look Who's Talking Too\", u'href': u'http://www.imdb.com/title/tt0100050/'}}, {u'sales': u'$47.4M', u'year': u'(1990)', u'description': u\"Mason Storm, a 'go it alone' cop, is gunned down at home. The intruders kill his wife, and think they've killed both Mason and his son too...\", u'title': {u'text': u'Hard to Kill', u'href': u'http://www.imdb.com/title/tt0099739/'}}, {u'sales': u'$46.8M', u'year': u'(1990)', u'description': u'Henry Hill and his friends work their way up through the mob hierarchy.', u'title': {u'text': u'Goodfellas', u'href': u'http://www.imdb.com/title/tt0099685/'}}, {u'sales': u'$46M', u'year': u'(1990)', u'description': u'Chicago DEA agent John Hatcher has just returned from Colombia, where his partner was killed in the...', u'title': {u'text': u'Marked for Death', u'href': u'http://www.imdb.com/title/tt0100114/'}}, {u'sales': u'$45.7M', u'year': u'(1990)', u'description': u'A corrupt businesswoman seeks to discredit Robocop in favor of her own model of cyborg.', u'title': {u'text': u'RoboCop 2', u'href': u'http://www.imdb.com/title/tt0100502/'}}, {u'sales': u'$44.1M', u'year': u'(1990)', u'description': u'In 1881, cattle baron John Chisum pays a bounty to Patrick Floyd Garrett to kill outlaw Billy the Kid.', u'title': {u'text': u'Young Guns II', u'href': u'http://www.imdb.com/title/tt0100994/'}}, {u'sales': u'$41.5M', u'year': u'(1990)', u'description': u\"The Gremlins are back, and this time, they've taken total control over the building of a media mogul.\", u'title': {u'text': u'Gremlins 2: The New Batch', u'href': u'http://www.imdb.com/title/tt0099700/'}}, {u'sales': u'$41M', u'year': u'(1990)', u'description': u\"Reluctantly retired from boxing and back from riches to rags, Rocky takes on a new protege who betrays him; As the champ's son must adjust to his family's new life after bankruptcy.\", u'title': {u'text': u'Rocky V', u'href': u'http://www.imdb.com/title/tt0100507/'}}, {u'sales': u'$39.4M', u'year': u'(1990)', u'description': u'When a hypochondriac learns that he is dying, he accepts an offer to throw himself in a volcano at a tropical island, and along the way there, learns to truly live.', u'title': {u'text': u'Joe Versus the Volcano', u'href': u'http://www.imdb.com/title/tt0099892/'}}, {u'sales': u'$38M', u'year': u'(1990)', u'description': u'Substance-addicted Hollywood actress Suzanne Vale is on the skids. After a spell at a detox centre her...', u'title': {u'text': u'Postcards from the Edge', u'href': u'http://www.imdb.com/title/tt0100395/'}}, {u'sales': u'$35.4M', u'year': u'(1990)', u'description': u'An unconventional single mother relocates with her two daughters to a small Massachusetts town in 1963, where a number of events and relationships both challenge and strengthen their familial bonds.', u'title': {u'text': u'Mermaids', u'href': u'http://www.imdb.com/title/tt0100140/'}}, {u'sales': u'$33.9M', u'year': u'(1990)', u'description': u'A brilliant scientist left for dead returns to exact revenge on the people who burned him alive.', u'title': {u'text': u'Darkman', u'href': u'http://www.imdb.com/title/tt0099365/'}}, {u'sales': u'$31.1M', u'year': u'(1990)', u'description': u'A young pilot finds himself recruited into a covert and corrupt CIA airlift organization operating in Vietnam War Era Laos.', u'title': {u'text': u'Air America', u'href': u'http://www.imdb.com/title/tt0099005/'}}, {u'sales': u'$30.7M', u'year': u'(1990)', u'description': u'Amidst a territorial gang war, a sophisticated alien hunter stalks the citizens of Los Angeles and the only man between him and his prey is veteran L.A.P.D. officer, Lieutenant Mike Harrigan.', u'title': {u'text': u'Predator 2', u'href': u'http://www.imdb.com/title/tt0100403/'}}, {u'sales': u'$29.9M', u'year': u'(1990)', u'description': u'A man wanting to stay in the US enters into a marriage of convenience, but it turns into more than that.', u'title': {u'text': u'Green Card', u'href': u'http://www.imdb.com/title/tt0099699/'}}, {u'sales': u'$29.4M', u'year': u'(1990)', u'description': u'A couple works hard to renovate their dream house and become landlords to pay for it. Unfortunately one of their tenants has plans of his own.', u'title': {u'text': u'Pacific Heights', u'href': u'http://www.imdb.com/title/tt0100318/'}}, {u'sales': u'$28.5M', u'year': u'(1990)', u'description': u\"Chucky's back as the doll possessed by the soul of a serial killer, butchering all who stand in his way of possessing the body of a boy.\", u'title': {u'text': u\"Child's Play 2\", u'href': u'http://www.imdb.com/title/tt0099253/'}}, {u'sales': u'$27.9M', u'year': u'(1990)', u'description': u'The R.A.S. agents, Miss Bianca and Bernard, race to Australia to save a boy and a rare golden eagle from a murderous poacher.', u'title': {u'text': u'The Rescuers Down Under', u'href': u'http://www.imdb.com/title/tt0100477/'}}, {u'sales': u'$27.7M', u'year': u'(1990)', u'description': u'Keen young Raymond Avila joins the Internal Affairs Department of the Los Angeles police. He and partner...', u'title': {u'text': u'Internal Affairs', u'href': u'http://www.imdb.com/title/tt0099850/'}}, {u'sales': u'$27.6M', u'year': u'(1990)', u'description': u\"Joe's a car salesman with a problem. He has two days to sell 12 cars or he loses his job. This would...\", u'title': {u'text': u'Cadillac Man', u'href': u'http://www.imdb.com/title/tt0099204/'}}, {u'sales': u'$27.4M', u'year': u'(1990)', u'description': u\"It's May 1943 at a US Army Air Corps base in England. The four officers and six enlisted men of the Memphis Belle...\", u'title': {u'text': u'Memphis Belle', u'href': u'http://www.imdb.com/title/tt0100133/'}}, {u'sales': u'$26.4M', u'year': u'(1990)', u'description': u\"Young Kid has been invited to a party at his friend Play's house. But after a fight at school, Kid's father grounds him...\", u'title': {u'text': u'House Party', u'href': u'http://www.imdb.com/title/tt0099800/'}}, {u'sales': u'$26.1M', u'year': u'(1990)', u'description': u'Mourning his dead child, a haunted Vietnam war veteran attempts to discover his past while suffering from a severe case of dissociation. To do so, he must decipher reality and life from his own dreams, delusion, and perception of death.', u'title': {u'text': u\"Jacob's Ladder\", u'href': u'http://www.imdb.com/title/tt0099871/'}}, {u'sales': u'$26.1M', u'year': u'(1990)', u'description': u\"A police lieutenant uncovers more than he bargained for as his investigation of a series of murders, which have all the hallmarks of the deceased 'Gemini' serial killer, lead him to question the patients of a psychiatric ward.\", u'title': {u'text': u'The Exorcist III', u'href': u'http://www.imdb.com/title/tt0099528/'}}, {u'sales': u'$25.1M', u'year': u'(1990)', u'description': u'While rescuing an American air crew captured by Mid-Eastern terrorists, Lieutenant Curran and his team...', u'title': {u'text': u'Navy Seals', u'href': u'http://www.imdb.com/title/tt0100232/'}}, {u'sales': u'$25M', u'year': u'(1990)', u'description': u'Bumbling Ernest P. Worrell is assigned to jury duty, where a crooked lawyer notices a resemblance with crime boss Mr...', u'title': {u'text': u'Ernest Goes to Jail', u'href': u'http://www.imdb.com/title/tt0099512/'}}, {u'sales': u'$24.7M', u'year': u'(1990)', u'description': u'Elliot Hopper is a widower with three children, he is currently working on a deal. It seems like his...', u'title': {u'text': u'Ghost Dad', u'href': u'http://www.imdb.com/title/tt0099654/'}}]}}\n"
     ]
    }
   ],
   "source": [
    "year = 2002\n",
    "\n",
    "movies, ratings, sales = [], [], []\n",
    "#Remember to replace this link with the link to your specifc API\n",
    "url = \"https://www.kimonolabs.com/api/ondemand/7q3deoj4?\" + \\\n",
    "        \"apikey={}\".format(api_key) + \\\n",
    "        \"&year={year}\".format(year=str(year)) \n",
    "\n",
    "data = json.load(urllib.urlopen(url))\n",
    "print data"
   ]
  },
  {
   "cell_type": "code",
   "execution_count": null,
   "metadata": {
    "collapsed": true
   },
   "outputs": [],
   "source": []
  },
  {
   "cell_type": "code",
   "execution_count": null,
   "metadata": {
    "collapsed": true
   },
   "outputs": [],
   "source": []
  }
 ],
 "metadata": {
  "kernelspec": {
   "display_name": "Python 2",
   "language": "python",
   "name": "python2"
  },
  "language_info": {
   "codemirror_mode": {
    "name": "ipython",
    "version": 2
   },
   "file_extension": ".py",
   "mimetype": "text/x-python",
   "name": "python",
   "nbconvert_exporter": "python",
   "pygments_lexer": "ipython2",
   "version": "2.7.9"
  }
 },
 "nbformat": 4,
 "nbformat_minor": 0
}
