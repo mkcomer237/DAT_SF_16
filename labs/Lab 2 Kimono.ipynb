{
 "cells": [
  {
   "cell_type": "code",
   "execution_count": 4,
   "metadata": {
    "collapsed": false
   },
   "outputs": [],
   "source": [
    "api_key = 'Rm9Em3kl0DCGV5SWQ01wf0ZUG4JufvxV'"
   ]
  },
  {
   "cell_type": "code",
   "execution_count": 66,
   "metadata": {
    "collapsed": false
   },
   "outputs": [],
   "source": [
    "import json\n",
    "import urllib\n",
    "import pandas as pd\n",
    "import requests\n",
    "\n",
    "def get_movies(api_key, startyear):\n",
    "\n",
    "\n",
    "    #url = \"https://www.kimonolabs.com/api/ondemand/7q3deoj4?apikey=%s&release_date=%s\" % (api_key, startyear)\n",
    "    url = \"https://www.kimonolabs.com/api/7q3deoj4?apikey=%s\" % (api_key)\n",
    "    #url = 'https://www.kimonolabs.com/api/ondemand/7q3deoj4?apikey=Rm9Em3kl0DCGV5SWQ01wf0ZUG4JufvxV&release_date=2002'\n",
    "\n",
    "    print url\n",
    "    \n",
    "    #api = requests.get(url)\n",
    "    api = urllib.urlopen(url)\n",
    "    \n",
    "    results = json.load(api)\n",
    "\n",
    "    titles = []\n",
    "    sales = []\n",
    "    \n",
    "    for movie in results['results']['collection1']:\n",
    "        titles.append(movie['title']['text'])\n",
    "        sales.append(float(movie['sales'][1:-1]))\n",
    "        #print title, sale\n",
    "        \n",
    "    df = pd.DataFrame({'title': titles, 'sales': sales})\n",
    "    return df\n",
    "                       \n",
    "                       \n"
   ]
  },
  {
   "cell_type": "code",
   "execution_count": 67,
   "metadata": {
    "collapsed": false
   },
   "outputs": [
    {
     "name": "stdout",
     "output_type": "stream",
     "text": [
      "https://www.kimonolabs.com/api/7q3deoj4?apikey=Rm9Em3kl0DCGV5SWQ01wf0ZUG4JufvxV\n",
      "   sales                         title\n",
      "0  286.0                    Home Alone\n",
      "1  218.0                         Ghost\n",
      "2  184.0            Dances with Wolves\n",
      "3  178.0                  Pretty Woman\n",
      "4  135.0  Teenage Mutant Ninja Turtles\n",
      "5  122.0      The Hunt for Red October\n",
      "6  119.0                  Total Recall\n",
      "7  118.0                    Die Hard 2\n",
      "8  104.0                    Dick Tracy\n",
      "9   91.5              Kindergarten Cop\n",
      "67.21\n"
     ]
    }
   ],
   "source": [
    "df = get_movies(api_key, 2002)\n",
    "print df.head(10)\n",
    "print df['sales'].mean()"
   ]
  },
  {
   "cell_type": "code",
   "execution_count": null,
   "metadata": {
    "collapsed": true
   },
   "outputs": [],
   "source": []
  }
 ],
 "metadata": {
  "kernelspec": {
   "display_name": "Python 2",
   "language": "python",
   "name": "python2"
  },
  "language_info": {
   "codemirror_mode": {
    "name": "ipython",
    "version": 2
   },
   "file_extension": ".py",
   "mimetype": "text/x-python",
   "name": "python",
   "nbconvert_exporter": "python",
   "pygments_lexer": "ipython2",
   "version": "2.7.9"
  }
 },
 "nbformat": 4,
 "nbformat_minor": 0
}
