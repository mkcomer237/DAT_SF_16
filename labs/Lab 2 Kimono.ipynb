{
 "cells": [
  {
   "cell_type": "code",
   "execution_count": 4,
   "metadata": {
    "collapsed": false
   },
   "outputs": [],
   "source": [
    "api_key = 'Rm9Em3kl0DCGV5SWQ01wf0ZUG4JufvxV'"
   ]
  },
  {
   "cell_type": "code",
   "execution_count": 40,
   "metadata": {
    "collapsed": false
   },
   "outputs": [
    {
     "ename": "SyntaxError",
     "evalue": "invalid syntax (<ipython-input-40-e53991137839>, line 26)",
     "output_type": "error",
     "traceback": [
      "\u001b[1;36m  File \u001b[1;32m\"<ipython-input-40-e53991137839>\"\u001b[1;36m, line \u001b[1;32m26\u001b[0m\n\u001b[1;33m    return results\u001b[0m\n\u001b[1;37m         ^\u001b[0m\n\u001b[1;31mSyntaxError\u001b[0m\u001b[1;31m:\u001b[0m invalid syntax\n"
     ]
    }
   ],
   "source": [
    "import json\n",
    "import urllib\n",
    "\n",
    "def get_movies(api_key, startyear):\n",
    "\n",
    "\n",
    "    #url = \"https://www.kimonolabs.com/api/ondemand/7q3deoj4?apikey=%s&release_date=%s\" % (api_key, startyear)\n",
    "    #url = \"https://www.kimonolabs.com/api/7q3deoj4?apikey=%s\" % (api_key)\n",
    "    url = 'https://www.kimonolabs.com/api/ondemand/7q3deoj4?apikey=Rm9Em3kl0DCGV5SWQ01wf0ZUG4JufvxV&release_date=2002'\n",
    "\n",
    "    print url\n",
    "    \n",
    "    results = json.load(urllib.urlopen(url))\n",
    "\n",
    "    titles = []\n",
    "    sales = []\n",
    "    \n",
    "    for movie in results['results']['collection1']:\n",
    "        title = movie['title']['text']\n",
    "        sale = movie['sales']\n",
    "        titles.append(movie['title']['text'])\n",
    "        sales.append(movie['sales'])\n",
    "        #print title, sale\n",
    "        \n",
    "    df = pd.dataframe({'title': titles, 'sales', sales})\n",
    "    return df\n",
    "                       \n",
    "                       \n"
   ]
  },
  {
   "cell_type": "code",
   "execution_count": 41,
   "metadata": {
    "collapsed": false
   },
   "outputs": [
    {
     "name": "stdout",
     "output_type": "stream",
     "text": [
      "https://www.kimonolabs.com/api/ondemand/7q3deoj4?apikey=Rm9Em3kl0DCGV5SWQ01wf0ZUG4JufvxV&release_date=2002\n",
      "Spider-Man $404M\n",
      "The Lord of the Rings: The Two Towers $340M\n",
      "Star Wars: Episode II - Attack of the Clones $311M\n",
      "Harry Potter and the Chamber of Secrets $262M\n",
      "My Big Fat Greek Wedding $241M\n",
      "Signs $228M\n",
      "Austin Powers in Goldmember $213M\n",
      "Men in Black II $190M\n",
      "Ice Age $176M\n",
      "Chicago $171M\n",
      "Catch Me If You Can $164M\n",
      "Die Another Day $160M\n",
      "Scooby-Doo $153M\n",
      "Lilo & Stitch $146M\n",
      "xXx $141M\n",
      "The Santa Clause 2 $139M\n",
      "Minority Report $132M\n",
      "The Ring $129M\n",
      "Sweet Home Alabama $127M\n",
      "Mr. Deeds $126M\n",
      "The Bourne Identity $121M\n",
      "The Sum of All Fears $118M\n",
      "8 Mile $117M\n",
      "Road to Perdition $104M\n",
      "Panic Room $95.3M\n",
      "Maid in Manhattan $93.8M\n",
      "Two Weeks Notice $93.3M\n",
      "Red Dragon $92.9M\n",
      "The Scorpion King $90.3M\n",
      "Spy Kids 2: Island of Lost Dreams $85.6M\n",
      "Blade II $81.6M\n",
      "Snow Dogs $81.2M\n",
      "We Were Soldiers $78.1M\n",
      "Gangs of New York $77.7M\n",
      "The Rookie $75.6M\n",
      "Barbershop $75.1M\n",
      "Spirit: Stallion of the Cimarron $73.2M\n",
      "John Q $71M\n",
      "Divine Secrets of the Ya-Ya Sisterhood $69.6M\n",
      "Insomnia $67.3M\n",
      "Changing Lanes $66.8M\n",
      "About Schmidt $65M\n",
      "Stuart Little 2 $64.7M\n",
      "The Time Machine $56.7M\n",
      "Drumline $56.4M\n",
      "The Count of Monte Cristo $54.2M\n",
      "Hero $53.6M\n",
      "Unfaithful $52.8M\n",
      "Like Mike $51.4M\n",
      "The Tuxedo $50.2M\n",
      "{u'count': 50, u'url': u'http://www.imdb.com/search/title?at=0&release_date=2002&sort=boxoffice_gross_us&title_type=feature', u'name': u'imdb_movies', u'results': {u'collection1': [{u'sales': u'$404M', u'year': u'(2002)', u'description': u'When bitten by a genetically modified spider, a nerdy, shy, and awkward high school student gains spider-like abilities that he eventually must use to fight evil as a superhero after tragedy befalls his family.', u'title': {u'text': u'Spider-Man', u'href': u'http://www.imdb.com/title/tt0145487/'}}, {u'sales': u'$340M', u'year': u'(2002)', u'description': u\"While Frodo and Sam edge closer to Mordor with the help of the shifty Gollum, the divided fellowship makes a stand against Sauron's new ally, Saruman, and his hordes of Isengard.\", u'title': {u'text': u'The Lord of the Rings: The Two Towers', u'href': u'http://www.imdb.com/title/tt0167261/'}}, {u'sales': u'$311M', u'year': u'(2002)', u'description': u'Ten years after initially meeting, Anakin Skywalker shares a forbidden romance with Padm\\xe9, while Obi-Wan investigates an assassination attempt on the Senator and discovers a secret clone army crafted for the Jedi.', u'title': {u'text': u'Star Wars: Episode II - Attack of the Clones', u'href': u'http://www.imdb.com/title/tt0121765/'}}, {u'sales': u'$262M', u'year': u'(2002)', u'description': u'Harry ignores warnings not to return to Hogwarts, only to find the school plagued by a series of mysterious attacks and a strange voice haunting him.', u'title': {u'text': u'Harry Potter and the Chamber of Secrets', u'href': u'http://www.imdb.com/title/tt0295297/'}}, {u'sales': u'$241M', u'year': u'(2002)', u'description': u'A young Greek woman falls in love with a non-Greek and struggles to get her family to accept him while she comes to terms with her heritage and cultural identity.', u'title': {u'text': u'My Big Fat Greek Wedding', u'href': u'http://www.imdb.com/title/tt0259446/'}}, {u'sales': u'$228M', u'year': u'(2002)', u'description': u'A family living on a farm finds mysterious crop circles in their fields which suggests something more frightening to come.', u'title': {u'text': u'Signs', u'href': u'http://www.imdb.com/title/tt0286106/'}}, {u'sales': u'$213M', u'year': u'(2002)', u'description': u'Upon learning that his father has been kidnapped, Austin Powers must travel to 1975 and defeat the aptly named villain Goldmember - who is working with Dr. Evil.', u'title': {u'text': u'Austin Powers in Goldmember', u'href': u'http://www.imdb.com/title/tt0295178/'}}, {u'sales': u'$190M', u'year': u'(2002)', u'description': u'Agent J needs help so he is sent to find Agent K and restore his memory.', u'title': {u'text': u'Men in Black II', u'href': u'http://www.imdb.com/title/tt0120912/'}}, {u'sales': u'$176M', u'year': u'(2002)', u'description': u'Set during the Ice Age, a sabertooth tiger, a sloth, and a wooly mammoth find a lost human infant, and they try to return him to his tribe.', u'title': {u'text': u'Ice Age', u'href': u'http://www.imdb.com/title/tt0268380/'}}, {u'sales': u'$171M', u'year': u'(2002)', u'description': u'Murderesses Velma Kelly and Roxie Hart find themselves on death row together and fight for the fame that will keep them from the gallows in 1920s Chicago.', u'title': {u'text': u'Chicago', u'href': u'http://www.imdb.com/title/tt0299658/'}}, {u'sales': u'$164M', u'year': u'(2002)', u'description': u\"A true story about Frank Abagnale Jr., who, before his 19th birthday, successfully conned millions of dollars' worth of checks as a Pan Am pilot, doctor, and legal prosecutor.\", u'title': {u'text': u'Catch Me If You Can', u'href': u'http://www.imdb.com/title/tt0264464/'}}, {u'sales': u'$160M', u'year': u'(2002)', u'description': u'James Bond is sent to investigate the connection between a North Korean terrorist and a diamond mogul who is funding the development of an international space weapon.', u'title': {u'text': u'Die Another Day', u'href': u'http://www.imdb.com/title/tt0246460/'}}, {u'sales': u'$153M', u'year': u'(2002)', u'description': u'After an acrimonious break up, the Mystery Inc. gang are individually brought to an island resort to investigate strange goings on.', u'title': {u'text': u'Scooby-Doo', u'href': u'http://www.imdb.com/title/tt0267913/'}}, {u'sales': u'$146M', u'year': u'(2002)', u'description': u'A Hawaiian girl adopts an unusual pet who is actually a notorious extra-terrestrial fugitive from the law.', u'title': {u'text': u'Lilo & Stitch', u'href': u'http://www.imdb.com/title/tt0275847/'}}, {u'sales': u'$141M', u'year': u'(2002)', u'description': u'An extreme sports athlete, Xander Cage, is recruited by the government on a special mission.', u'title': {u'text': u'xXx', u'href': u'http://www.imdb.com/title/tt0295701/'}}, {u'sales': u'$139M', u'year': u'(2002)', u'description': u\"Scott Calvin has been a humble Santa Claus for nearly ten years, but it might come to an end if he doesn't find a Mrs. Claus.\", u'title': {u'text': u'The Santa Clause 2', u'href': u'http://www.imdb.com/title/tt0304669/'}}, {u'sales': u'$132M', u'year': u'(2002)', u'description': u'In a future where a special police unit is able to arrest murderers before they commit their crimes, an officer from that unit is himself accused of a future murder.', u'title': {u'text': u'Minority Report', u'href': u'http://www.imdb.com/title/tt0181689/'}}, {u'sales': u'$129M', u'year': u'(2002)', u'description': u'A journalist must investigate a mysterious videotape which seems to cause the death of anyone in a week of viewing it.', u'title': {u'text': u'The Ring', u'href': u'http://www.imdb.com/title/tt0298130/'}}, {u'sales': u'$127M', u'year': u'(2002)', u'description': u'A young woman with a Southern background runs away from her husband in Alabama and reinvents herself as a New York socialite.', u'title': {u'text': u'Sweet Home Alabama', u'href': u'http://www.imdb.com/title/tt0256415/'}}, {u'sales': u'$126M', u'year': u'(2002)', u'description': u'A sweet-natured, small-town guy inherits a controlling stake in a media conglomerate and begins to do business his way.', u'title': {u'text': u'Mr. Deeds', u'href': u'http://www.imdb.com/title/tt0280590/'}}, {u'sales': u'$121M', u'year': u'(2002)', u'description': u'A man is picked up by a fishing boat, bullet-riddled and suffering from amnesia, before racing to elude assassins and regain his memory.', u'title': {u'text': u'The Bourne Identity', u'href': u'http://www.imdb.com/title/tt0258463/'}}, {u'sales': u'$118M', u'year': u'(2002)', u'description': u\"CIA analyst Jack Ryan must thwart the plans of a terrorist faction that threatens to induce a catastrophic conflict between the United States and Russia's newly elected president by detonating a nuclear weapon at a football game in Baltimore.\", u'title': {u'text': u'The Sum of All Fears', u'href': u'http://www.imdb.com/title/tt0164184/'}}, {u'sales': u'$117M', u'year': u'(2002)', u'description': u'A young rapper, struggling with every aspect of his life, wants to make the most of what could be his final opportunity but his problems around gives him doubts.', u'title': {u'text': u'8 Mile', u'href': u'http://www.imdb.com/title/tt0298203/'}}, {u'sales': u'$104M', u'year': u'(2002)', u'description': u\"Bonds of loyalty are put to the test when a hitman's son witnesses what his father does for a living.\", u'title': {u'text': u'Road to Perdition', u'href': u'http://www.imdb.com/title/tt0257044/'}}, {u'sales': u'$95.3M', u'year': u'(2002)', u'description': u\"A divorced woman and her diabetic daughter take refuge in their newly-purchased house's safe room, when three men break-in, searching for a missing fortune.\", u'title': {u'text': u'Panic Room', u'href': u'http://www.imdb.com/title/tt0258000/'}}, {u'sales': u'$93.8M', u'year': u'(2002)', u'description': u\"A senatorial candidate falls for a hotel maid, thinking she is a socialite when he sees her trying on a wealthy woman's dress.\", u'title': {u'text': u'Maid in Manhattan', u'href': u'http://www.imdb.com/title/tt0252076/'}}, {u'sales': u'$93.3M', u'year': u'(2002)', u'description': u\"A lawyer decides that she's used too much like a nanny by her boss, so she walks out on him.\", u'title': {u'text': u'Two Weeks Notice', u'href': u'http://www.imdb.com/title/tt0313737/'}}, {u'sales': u'$92.9M', u'year': u'(2002)', u'description': u'A retired FBI agent with psychological gifts is assigned to help track down \"The Tooth Fairy\", a mysterious serial killer; aiding him is imprisoned criminal genius Hannibal \"The Cannibal\" Lecter.', u'title': {u'text': u'Red Dragon', u'href': u'http://www.imdb.com/title/tt0289765/'}}, {u'sales': u'$90.3M', u'year': u'(2002)', u'description': u\"A desert warrior rises up against the evil army that is destroying his homeland. He captures the enemy's key sorcerer, takes her deep into the desert and prepares for a final showdown.\", u'title': {u'text': u'The Scorpion King', u'href': u'http://www.imdb.com/title/tt0277296/'}}, {u'sales': u'$85.6M', u'year': u'(2002)', u'description': u'The Cortez siblings set out for a mysterious island, where they encounter a genetic scientist and a set of rival spy kids.', u'title': {u'text': u'Spy Kids 2: Island of Lost Dreams', u'href': u'http://www.imdb.com/title/tt0287717/'}}, {u'sales': u'$81.6M', u'year': u'(2002)', u'description': u'Blade forms an uneasy alliance with the vampire council in order to combat the Reaper vampires who feed on vampires.', u'title': {u'text': u'Blade II', u'href': u'http://www.imdb.com/title/tt0187738/'}}, {u'sales': u'$81.2M', u'year': u'(2002)', u'description': u\"When a Miami dentist inherits a team of sled dogs, he's got to learn the trade or lose his pack to a crusty mountain man.\", u'title': {u'text': u'Snow Dogs', u'href': u'http://www.imdb.com/title/tt0281373/'}}, {u'sales': u'$78.1M', u'year': u'(2002)', u'description': u'The story of the first major battle of the American phase of the Vietnam War and the soldiers on both sides that fought it.', u'title': {u'text': u'We Were Soldiers', u'href': u'http://www.imdb.com/title/tt0277434/'}}, {u'sales': u'$77.7M', u'year': u'(2002)', u'description': u\"In 1863, Amsterdam Vallon returns to the Five Points area of New York City seeking revenge against Bill the Butcher, his father's killer.\", u'title': {u'text': u'Gangs of New York', u'href': u'http://www.imdb.com/title/tt0217505/'}}, {u'sales': u'$75.6M', u'year': u'(2002)', u'description': u'A Texas baseball coach makes the major league after agreeing to try out if his high school team made the playoffs.', u'title': {u'text': u'The Rookie', u'href': u'http://www.imdb.com/title/tt0265662/'}}, {u'sales': u'$75.1M', u'year': u'(2002)', u'description': u'A day in the life of a South Side Chicago barbershop.', u'title': {u'text': u'Barbershop', u'href': u'http://www.imdb.com/title/tt0303714/'}}, {u'sales': u'$73.2M', u'year': u'(2002)', u'description': u'As a wild stallion travels across the frontiers of the Old West, he befriends a young human and finds true love with a mare.', u'title': {u'text': u'Spirit: Stallion of the Cimarron', u'href': u'http://www.imdb.com/title/tt0166813/'}}, {u'sales': u'$71M', u'year': u'(2002)', u'description': u\"A down-on-his luck father, whose insurance won't cover his son's heart transplant, takes the hospital's emergency room hostage until the doctors agree to perform the operation.\", u'title': {u'text': u'John Q', u'href': u'http://www.imdb.com/title/tt0251160/'}}, {u'sales': u'$69.6M', u'year': u'(2002)', u'description': u'After years of mother-daughter tension, Siddalee receives a scrapbook detailing the wild adventures of the \"Ya-Yas\", her mother\\'s girlhood friends.', u'title': {u'text': u'Divine Secrets of the Ya-Ya Sisterhood', u'href': u'http://www.imdb.com/title/tt0279778/'}}, {u'sales': u'$67.3M', u'year': u'(2002)', u'description': u\"Two Los Angeles homicide detectives are dispatched to a northern town where the sun doesn't set to investigate the methodical murder of a local teen.\", u'title': {u'text': u'Insomnia', u'href': u'http://www.imdb.com/title/tt0278504/'}}, {u'sales': u'$66.8M', u'year': u'(2002)', u'description': u'The story of what happens one day in New York when a young lawyer and a businessman share a small automobile accident on F.D.R. Drive and their mutual road rage escalates into a feud.', u'title': {u'text': u'Changing Lanes', u'href': u'http://www.imdb.com/title/tt0264472/'}}, {u'sales': u'$65M', u'year': u'(2002)', u'description': u\"A man upon retirement embarks on a journey to his estranged daughter's wedding only to discover more about himself and life than he ever expected.\", u'title': {u'text': u'About Schmidt', u'href': u'http://www.imdb.com/title/tt0257360/'}}, {u'sales': u'$64.7M', u'year': u'(2002)', u'description': u'Stuart and Snowbell set out across town to rescue a friend.', u'title': {u'text': u'Stuart Little 2', u'href': u'http://www.imdb.com/title/tt0243585/'}}, {u'sales': u'$56.7M', u'year': u'(2002)', u'description': u'Hoping to alter the events of the past, a 19th century inventor instead travels 800,000 years into the future, where he finds humankind divided into two warring races.', u'title': {u'text': u'The Time Machine', u'href': u'http://www.imdb.com/title/tt0268695/'}}, {u'sales': u'$56.4M', u'year': u'(2002)', u'description': u'A band director recruits a Harlem street drummer to play at a Southern university.', u'title': {u'text': u'Drumline', u'href': u'http://www.imdb.com/title/tt0303933/'}}, {u'sales': u'$54.2M', u'year': u'(2002)', u'description': u'A young man, falsely imprisoned by his jealous \"friend,\" escapes and uses a hidden treasure to exact his revenge.', u'title': {u'text': u'The Count of Monte Cristo', u'href': u'http://www.imdb.com/title/tt0245844/'}}, {u'sales': u'$53.6M', u'year': u'(2002)', u'description': u'A defense officer, Nameless, was summoned by the King of Qin regarding his success of terminating three warriors.', u'title': {u'text': u'Hero', u'href': u'http://www.imdb.com/title/tt0299977/'}}, {u'sales': u'$52.8M', u'year': u'(2002)', u'description': u\"A New York suburban couple's marriage goes dangerously awry when the wife indulges in an adulterous fling.\", u'title': {u'text': u'Unfaithful', u'href': u'http://www.imdb.com/title/tt0250797/'}}, {u'sales': u'$51.4M', u'year': u'(2002)', u'description': u'A 14-year-old orphan becomes an NBA superstar after trying on a pair of sneakers with the faded initials \"M.J.\" inside.', u'title': {u'text': u'Like Mike', u'href': u'http://www.imdb.com/title/tt0308506/'}}, {u'sales': u'$50.2M', u'year': u'(2002)', u'description': u\"A hapless chauffer must take a comatosed secret agent's place using his special gadget-laden tuxedo.\", u'title': {u'text': u'The Tuxedo', u'href': u'http://www.imdb.com/title/tt0290095/'}}]}}\n"
     ]
    }
   ],
   "source": [
    "print get_movies(api_key, 2002).head(10)"
   ]
  },
  {
   "cell_type": "code",
   "execution_count": null,
   "metadata": {
    "collapsed": true
   },
   "outputs": [],
   "source": []
  }
 ],
 "metadata": {
  "kernelspec": {
   "display_name": "Python 2",
   "language": "python",
   "name": "python2"
  },
  "language_info": {
   "codemirror_mode": {
    "name": "ipython",
    "version": 2
   },
   "file_extension": ".py",
   "mimetype": "text/x-python",
   "name": "python",
   "nbconvert_exporter": "python",
   "pygments_lexer": "ipython2",
   "version": "2.7.9"
  }
 },
 "nbformat": 4,
 "nbformat_minor": 0
}
