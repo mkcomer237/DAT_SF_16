{
 "cells": [
  {
   "cell_type": "code",
   "execution_count": 2,
   "metadata": {
    "collapsed": false
   },
   "outputs": [],
   "source": [
    "import pandas as pd\n",
    "import numpy as np\n",
    "import json\n",
    "from collections import defaultdict"
   ]
  },
  {
   "cell_type": "code",
   "execution_count": 5,
   "metadata": {
    "collapsed": false
   },
   "outputs": [
    {
     "data": {
      "text/html": [
       "<div>\n",
       "<table border=\"1\" class=\"dataframe\">\n",
       "  <thead>\n",
       "    <tr style=\"text-align: right;\">\n",
       "      <th></th>\n",
       "      <th>business_id</th>\n",
       "      <th>stars</th>\n",
       "      <th>text</th>\n",
       "      <th>user_id</th>\n",
       "    </tr>\n",
       "  </thead>\n",
       "  <tbody>\n",
       "    <tr>\n",
       "      <th>0</th>\n",
       "      <td>vcNAWiLM4dR7D2nwwJ7nCA</td>\n",
       "      <td>5</td>\n",
       "      <td>dr. goldberg offers everything i look for in a...</td>\n",
       "      <td>Xqd0DzHaiyRqVH3WRG7hzg</td>\n",
       "    </tr>\n",
       "    <tr>\n",
       "      <th>1</th>\n",
       "      <td>vcNAWiLM4dR7D2nwwJ7nCA</td>\n",
       "      <td>2</td>\n",
       "      <td>Unfortunately, the frustration of being Dr. Go...</td>\n",
       "      <td>H1kH6QZV7Le4zqTRNxoZow</td>\n",
       "    </tr>\n",
       "    <tr>\n",
       "      <th>2</th>\n",
       "      <td>vcNAWiLM4dR7D2nwwJ7nCA</td>\n",
       "      <td>4</td>\n",
       "      <td>Dr. Goldberg has been my doctor for years and ...</td>\n",
       "      <td>zvJCcrpm2yOZrxKffwGQLA</td>\n",
       "    </tr>\n",
       "    <tr>\n",
       "      <th>3</th>\n",
       "      <td>vcNAWiLM4dR7D2nwwJ7nCA</td>\n",
       "      <td>4</td>\n",
       "      <td>Been going to Dr. Goldberg for over 10 years. ...</td>\n",
       "      <td>KBLW4wJA_fwoWmMhiHRVOA</td>\n",
       "    </tr>\n",
       "    <tr>\n",
       "      <th>4</th>\n",
       "      <td>vcNAWiLM4dR7D2nwwJ7nCA</td>\n",
       "      <td>4</td>\n",
       "      <td>Got a letter in the mail last week that said D...</td>\n",
       "      <td>zvJCcrpm2yOZrxKffwGQLA</td>\n",
       "    </tr>\n",
       "  </tbody>\n",
       "</table>\n",
       "</div>"
      ],
      "text/plain": [
       "              business_id  stars  \\\n",
       "0  vcNAWiLM4dR7D2nwwJ7nCA      5   \n",
       "1  vcNAWiLM4dR7D2nwwJ7nCA      2   \n",
       "2  vcNAWiLM4dR7D2nwwJ7nCA      4   \n",
       "3  vcNAWiLM4dR7D2nwwJ7nCA      4   \n",
       "4  vcNAWiLM4dR7D2nwwJ7nCA      4   \n",
       "\n",
       "                                                text                 user_id  \n",
       "0  dr. goldberg offers everything i look for in a...  Xqd0DzHaiyRqVH3WRG7hzg  \n",
       "1  Unfortunately, the frustration of being Dr. Go...  H1kH6QZV7Le4zqTRNxoZow  \n",
       "2  Dr. Goldberg has been my doctor for years and ...  zvJCcrpm2yOZrxKffwGQLA  \n",
       "3  Been going to Dr. Goldberg for over 10 years. ...  KBLW4wJA_fwoWmMhiHRVOA  \n",
       "4  Got a letter in the mail last week that said D...  zvJCcrpm2yOZrxKffwGQLA  "
      ]
     },
     "execution_count": 5,
     "metadata": {},
     "output_type": "execute_result"
    }
   ],
   "source": [
    "reviews_raw = open('yelp_academic_dataset_review.json', 'r')\n",
    "\n",
    "\n",
    "counter = 0\n",
    "\n",
    "data_dict = defaultdict(list)\n",
    "\n",
    "for line in reviews_raw:\n",
    "    if counter >= 3:\n",
    "        break\n",
    "    #print line\n",
    "    line_json = json.loads(line)\n",
    "    \n",
    "    user_id = line_json['user_id']\n",
    "    review_type = line_json['type']\n",
    "    stars = line_json['stars']\n",
    "    date = line_json['date']\n",
    "    business_id = line_json['business_id']\n",
    "    text = line_json['text']\n",
    "    \n",
    "    data_dict['user_id'].append(user_id)\n",
    "    data_dict['stars'].append(stars)\n",
    "    data_dict['business_id'].append(business_id)\n",
    "    data_dict['text'].append(text)\n",
    "    \n",
    "    \n",
    "    #print user_id, business_id, stars\n",
    "    #counter += 1\n",
    "\n",
    "#print dict(data_dict)\n",
    "    \n",
    "reviews_raw.close() \n",
    "\n",
    "df = pd.DataFrame(data_dict)\n",
    "df.head()\n"
   ]
  },
  {
   "cell_type": "code",
   "execution_count": 38,
   "metadata": {
    "collapsed": false
   },
   "outputs": [
    {
     "name": "stdout",
     "output_type": "stream",
     "text": [
      "<class 'pandas.core.frame.DataFrame'>\n",
      "Int64Index: 1569264 entries, 0 to 1569263\n",
      "Data columns (total 4 columns):\n",
      "business_id    1569264 non-null object\n",
      "stars          1569264 non-null int64\n",
      "text           1569264 non-null object\n",
      "user_id        1569264 non-null object\n",
      "dtypes: int64(1), object(3)\n",
      "memory usage: 59.9+ MB\n"
     ]
    }
   ],
   "source": [
    "df.info()"
   ]
  },
  {
   "cell_type": "code",
   "execution_count": 18,
   "metadata": {
    "collapsed": false
   },
   "outputs": [
    {
     "name": "stdout",
     "output_type": "stream",
     "text": [
      "{u'city': u'Phoenix', u'review_count': 9, u'name': u'Eric Goldberg, MD', u'neighborhoods': [], u'type': u'business', u'business_id': u'vcNAWiLM4dR7D2nwwJ7nCA', u'full_address': u'4840 E Indian School Rd\\nSte 101\\nPhoenix, AZ 85018', u'hours': {u'Thursday': {u'close': u'17:00', u'open': u'08:00'}, u'Tuesday': {u'close': u'17:00', u'open': u'08:00'}, u'Friday': {u'close': u'17:00', u'open': u'08:00'}, u'Wednesday': {u'close': u'17:00', u'open': u'08:00'}, u'Monday': {u'close': u'17:00', u'open': u'08:00'}}, u'state': u'AZ', u'longitude': -111.983758, u'stars': 3.5, u'latitude': 33.499313, u'attributes': {u'By Appointment Only': True}, u'open': True, u'categories': [u'Doctors', u'Health & Medical']}\n",
      "{u'city': u'Dravosburg', u'review_count': 4, u'name': u\"Clancy's Pub\", u'neighborhoods': [], u'type': u'business', u'business_id': u'UsFtqoBl7naz8AVUBZMjQQ', u'full_address': u'202 McClure St\\nDravosburg, PA 15034', u'hours': {}, u'state': u'PA', u'longitude': -79.88693, u'stars': 3.5, u'latitude': 40.350519, u'attributes': {u'Happy Hour': True, u'Accepts Credit Cards': True, u'Good For Groups': True, u'Outdoor Seating': False, u'Price Range': 1}, u'open': True, u'categories': [u'Nightlife']}\n",
      "{u'city': u'Bethel Park', u'review_count': 5, u'name': u'Cool Springs Golf Center', u'neighborhoods': [], u'type': u'business', u'business_id': u'cE27W9VPgO88Qxe4ol6y_g', u'full_address': u'1530 Hamilton Rd\\nBethel Park, PA 15234', u'hours': {}, u'state': u'PA', u'longitude': -80.01591, u'stars': 2.5, u'latitude': 40.3568962, u'attributes': {u'Good for Kids': True}, u'open': False, u'categories': [u'Active Life', u'Mini Golf', u'Golf']}\n",
      "{u'city': u'Pittsburgh', u'review_count': 3, u'name': u'Verizon Wireless', u'neighborhoods': [], u'type': u'business', u'business_id': u'HZdLhv6COCleJMo7nPl-RA', u'full_address': u'301 S Hills Vlg\\nPittsburgh, PA 15241', u'hours': {u'Monday': {u'close': u'21:00', u'open': u'10:00'}, u'Tuesday': {u'close': u'21:00', u'open': u'10:00'}, u'Friday': {u'close': u'21:00', u'open': u'10:00'}, u'Wednesday': {u'close': u'21:00', u'open': u'10:00'}, u'Thursday': {u'close': u'21:00', u'open': u'10:00'}, u'Sunday': {u'close': u'18:00', u'open': u'11:00'}, u'Saturday': {u'close': u'21:00', u'open': u'10:00'}}, u'state': u'PA', u'longitude': -80.05998, u'stars': 3.5, u'latitude': 40.35762, u'attributes': {}, u'open': True, u'categories': [u'Shopping', u'Home Services', u'Internet Service Providers', u'Mobile Phones', u'Professional Services', u'Electronics']}\n",
      "{u'city': u'Braddock', u'review_count': 11, u'name': u\"Emil's Lounge\", u'neighborhoods': [], u'type': u'business', u'business_id': u'mVHrayjG3uZ_RLHkLj-AMg', u'full_address': u'414 Hawkins Ave\\nBraddock, PA 15104', u'hours': {u'Tuesday': {u'close': u'19:00', u'open': u'10:00'}, u'Friday': {u'close': u'20:00', u'open': u'10:00'}, u'Saturday': {u'close': u'16:00', u'open': u'10:00'}, u'Thursday': {u'close': u'19:00', u'open': u'10:00'}, u'Wednesday': {u'close': u'19:00', u'open': u'10:00'}}, u'state': u'PA', u'longitude': -79.8663507, u'stars': 4.5, u'latitude': 40.408735, u'attributes': {u'Alcohol': u'full_bar', u'Noise Level': u'average', u'Music': {u'dj': False}, u'Attire': u'casual', u'Ambience': {u'romantic': False, u'intimate': False, u'classy': False, u'hipster': False, u'divey': False, u'touristy': False, u'trendy': False, u'upscale': False, u'casual': False}, u'Good for Kids': True, u'Price Range': 1, u'Good For Dancing': False, u'Delivery': False, u'Coat Check': False, u'Smoking': u'no', u'Accepts Credit Cards': True, u'Take-out': True, u'Happy Hour': False, u'Outdoor Seating': False, u'Takes Reservations': False, u'Waiter Service': True, u'Wi-Fi': u'no', u'Caters': True, u'Good For': {u'dessert': False, u'latenight': False, u'lunch': False, u'dinner': False, u'brunch': False, u'breakfast': False}, u'Parking': {u'garage': False, u'street': False, u'validated': False, u'lot': False, u'valet': False}, u'Has TV': True, u'Good For Groups': True}, u'open': True, u'categories': [u'Bars', u'American (New)', u'Nightlife', u'Lounges', u'Restaurants']}\n",
      "set([u'city', u'review_count', u'name', u'neighborhoods', u'open', u'business_id', u'full_address', u'hours', u'state', u'longitude', u'stars', u'latitude', u'attributes', u'type', u'categories'])\n",
      "{u'city': u'Braddock', u'review_count': 11, u'name': u\"Emil's Lounge\", u'neighborhoods': [], u'type': u'business', u'business_id': u'mVHrayjG3uZ_RLHkLj-AMg', u'full_address': u'414 Hawkins Ave\\nBraddock, PA 15104', u'hours': {u'Tuesday': {u'close': u'19:00', u'open': u'10:00'}, u'Friday': {u'close': u'20:00', u'open': u'10:00'}, u'Saturday': {u'close': u'16:00', u'open': u'10:00'}, u'Thursday': {u'close': u'19:00', u'open': u'10:00'}, u'Wednesday': {u'close': u'19:00', u'open': u'10:00'}}, u'state': u'PA', u'longitude': -79.8663507, u'stars': 4.5, u'latitude': 40.408735, u'attributes': {u'Alcohol': u'full_bar', u'Noise Level': u'average', u'Music': {u'dj': False}, u'Attire': u'casual', u'Ambience': {u'romantic': False, u'intimate': False, u'classy': False, u'hipster': False, u'divey': False, u'touristy': False, u'trendy': False, u'upscale': False, u'casual': False}, u'Good for Kids': True, u'Price Range': 1, u'Good For Dancing': False, u'Delivery': False, u'Coat Check': False, u'Smoking': u'no', u'Accepts Credit Cards': True, u'Take-out': True, u'Happy Hour': False, u'Outdoor Seating': False, u'Takes Reservations': False, u'Waiter Service': True, u'Wi-Fi': u'no', u'Caters': True, u'Good For': {u'dessert': False, u'latenight': False, u'lunch': False, u'dinner': False, u'brunch': False, u'breakfast': False}, u'Parking': {u'garage': False, u'street': False, u'validated': False, u'lot': False, u'valet': False}, u'Has TV': True, u'Good For Groups': True}, u'open': True, u'categories': [u'Bars', u'American (New)', u'Nightlife', u'Lounges', u'Restaurants']}\n"
     ]
    }
   ],
   "source": [
    "businesses_raw = open('yelp_academic_dataset_business.json', 'r')\n",
    "\n",
    "#this table has different fields in different columns \n",
    "#extract all the possible values from the data? \n",
    "\n",
    "fields = set()\n",
    "\n",
    "counter = 1\n",
    "\n",
    "for line in businesses_raw:\n",
    "    #print line\n",
    "    if counter >= 6:\n",
    "        break\n",
    "    line_json = json.loads(line)\n",
    "    print line_json\n",
    "    for key in line_json:\n",
    "        #print key\n",
    "        fields.add(key)\n",
    "\n",
    "    counter += 1\n",
    "        \n",
    "print fields\n",
    "print line_json\n",
    "    \n",
    "    "
   ]
  },
  {
   "cell_type": "code",
   "execution_count": 22,
   "metadata": {
    "collapsed": false
   },
   "outputs": [
    {
     "name": "stdout",
     "output_type": "stream",
     "text": [
      "{u'city': u'Phoenix', u'review_count': 9, u'name': u'Eric Goldberg, MD', u'neighborhoods': [], u'type': u'business', u'business_id': u'vcNAWiLM4dR7D2nwwJ7nCA', u'full_address': u'4840 E Indian School Rd\\nSte 101\\nPhoenix, AZ 85018', u'hours': {u'Thursday': {u'close': u'17:00', u'open': u'08:00'}, u'Tuesday': {u'close': u'17:00', u'open': u'08:00'}, u'Friday': {u'close': u'17:00', u'open': u'08:00'}, u'Wednesday': {u'close': u'17:00', u'open': u'08:00'}, u'Monday': {u'close': u'17:00', u'open': u'08:00'}}, u'state': u'AZ', u'longitude': -111.983758, u'stars': 3.5, u'latitude': 33.499313, u'attributes': {u'By Appointment Only': True}, u'open': True, u'categories': [u'Doctors', u'Health & Medical']}\n",
      "{u'city': u'Dravosburg', u'review_count': 4, u'name': u\"Clancy's Pub\", u'neighborhoods': [], u'type': u'business', u'business_id': u'UsFtqoBl7naz8AVUBZMjQQ', u'full_address': u'202 McClure St\\nDravosburg, PA 15034', u'hours': {}, u'state': u'PA', u'longitude': -79.88693, u'stars': 3.5, u'latitude': 40.350519, u'attributes': {u'Happy Hour': True, u'Accepts Credit Cards': True, u'Good For Groups': True, u'Outdoor Seating': False, u'Price Range': 1}, u'open': True, u'categories': [u'Nightlife']}\n",
      "{u'city': u'Bethel Park', u'review_count': 5, u'name': u'Cool Springs Golf Center', u'neighborhoods': [], u'type': u'business', u'business_id': u'cE27W9VPgO88Qxe4ol6y_g', u'full_address': u'1530 Hamilton Rd\\nBethel Park, PA 15234', u'hours': {}, u'state': u'PA', u'longitude': -80.01591, u'stars': 2.5, u'latitude': 40.3568962, u'attributes': {u'Good for Kids': True}, u'open': False, u'categories': [u'Active Life', u'Mini Golf', u'Golf']}\n",
      "{u'city': u'Pittsburgh', u'review_count': 3, u'name': u'Verizon Wireless', u'neighborhoods': [], u'type': u'business', u'business_id': u'HZdLhv6COCleJMo7nPl-RA', u'full_address': u'301 S Hills Vlg\\nPittsburgh, PA 15241', u'hours': {u'Monday': {u'close': u'21:00', u'open': u'10:00'}, u'Tuesday': {u'close': u'21:00', u'open': u'10:00'}, u'Friday': {u'close': u'21:00', u'open': u'10:00'}, u'Wednesday': {u'close': u'21:00', u'open': u'10:00'}, u'Thursday': {u'close': u'21:00', u'open': u'10:00'}, u'Sunday': {u'close': u'18:00', u'open': u'11:00'}, u'Saturday': {u'close': u'21:00', u'open': u'10:00'}}, u'state': u'PA', u'longitude': -80.05998, u'stars': 3.5, u'latitude': 40.35762, u'attributes': {}, u'open': True, u'categories': [u'Shopping', u'Home Services', u'Internet Service Providers', u'Mobile Phones', u'Professional Services', u'Electronics']}\n",
      "{u'city': u'Braddock', u'review_count': 11, u'name': u\"Emil's Lounge\", u'neighborhoods': [], u'type': u'business', u'business_id': u'mVHrayjG3uZ_RLHkLj-AMg', u'full_address': u'414 Hawkins Ave\\nBraddock, PA 15104', u'hours': {u'Tuesday': {u'close': u'19:00', u'open': u'10:00'}, u'Friday': {u'close': u'20:00', u'open': u'10:00'}, u'Saturday': {u'close': u'16:00', u'open': u'10:00'}, u'Thursday': {u'close': u'19:00', u'open': u'10:00'}, u'Wednesday': {u'close': u'19:00', u'open': u'10:00'}}, u'state': u'PA', u'longitude': -79.8663507, u'stars': 4.5, u'latitude': 40.408735, u'attributes': {u'Alcohol': u'full_bar', u'Noise Level': u'average', u'Music': {u'dj': False}, u'Attire': u'casual', u'Ambience': {u'romantic': False, u'intimate': False, u'classy': False, u'hipster': False, u'divey': False, u'touristy': False, u'trendy': False, u'upscale': False, u'casual': False}, u'Good for Kids': True, u'Price Range': 1, u'Good For Dancing': False, u'Delivery': False, u'Coat Check': False, u'Smoking': u'no', u'Accepts Credit Cards': True, u'Take-out': True, u'Happy Hour': False, u'Outdoor Seating': False, u'Takes Reservations': False, u'Waiter Service': True, u'Wi-Fi': u'no', u'Caters': True, u'Good For': {u'dessert': False, u'latenight': False, u'lunch': False, u'dinner': False, u'brunch': False, u'breakfast': False}, u'Parking': {u'garage': False, u'street': False, u'validated': False, u'lot': False, u'valet': False}, u'Has TV': True, u'Good For Groups': True}, u'open': True, u'categories': [u'Bars', u'American (New)', u'Nightlife', u'Lounges', u'Restaurants']}\n",
      "{u'city': u'Carnegie', u'review_count': 15, u'name': u\"Alexion's Bar & Grill\", u'neighborhoods': [u'Greentree'], u'type': u'business', u'business_id': u'KayYbHCt-RkbGcPdGOThNg', u'full_address': u'141 Hawthorne St\\nGreentree\\nCarnegie, PA 15106', u'hours': {}, u'state': u'PA', u'longitude': -80.067534, u'stars': 4.0, u'latitude': 40.415517, u'attributes': {u'Alcohol': u'full_bar', u'Noise Level': u'loud', u'Music': {u'dj': False}, u'Attire': u'casual', u'Ambience': {u'romantic': False, u'intimate': False, u'touristy': False, u'hipster': False, u'divey': False, u'classy': False, u'trendy': False, u'upscale': False, u'casual': True}, u'Good for Kids': False, u'Price Range': 1, u'Good For Dancing': True, u'Delivery': False, u'Coat Check': False, u'Smoking': u'outdoor', u'Accepts Credit Cards': True, u'Take-out': True, u'Happy Hour': True, u'Outdoor Seating': True, u'Takes Reservations': False, u'Waiter Service': True, u'Wi-Fi': u'free', u'Caters': False, u'Good For': {u'dessert': False, u'latenight': False, u'lunch': False, u'dinner': True, u'breakfast': False, u'brunch': False}, u'Parking': {u'garage': False, u'street': False, u'validated': False, u'lot': True, u'valet': False}, u'Has TV': True, u'Good For Groups': True}, u'open': True, u'categories': [u'Bars', u'American (Traditional)', u'Nightlife', u'Restaurants']}\n"
     ]
    },
    {
     "data": {
      "text/html": [
       "<div>\n",
       "<table border=\"1\" class=\"dataframe\">\n",
       "  <thead>\n",
       "    <tr style=\"text-align: right;\">\n",
       "      <th></th>\n",
       "      <th>attributes</th>\n",
       "      <th>bus_stars</th>\n",
       "      <th>categories</th>\n",
       "      <th>city</th>\n",
       "      <th>name</th>\n",
       "      <th>review_count</th>\n",
       "    </tr>\n",
       "  </thead>\n",
       "  <tbody>\n",
       "    <tr>\n",
       "      <th>0</th>\n",
       "      <td>{u'By Appointment Only': True}</td>\n",
       "      <td>3.5</td>\n",
       "      <td>[Doctors, Health &amp; Medical]</td>\n",
       "      <td>Phoenix</td>\n",
       "      <td>Eric Goldberg, MD</td>\n",
       "      <td>9</td>\n",
       "    </tr>\n",
       "    <tr>\n",
       "      <th>1</th>\n",
       "      <td>{u'Happy Hour': True, u'Accepts Credit Cards':...</td>\n",
       "      <td>3.5</td>\n",
       "      <td>[Nightlife]</td>\n",
       "      <td>Dravosburg</td>\n",
       "      <td>Clancy's Pub</td>\n",
       "      <td>4</td>\n",
       "    </tr>\n",
       "    <tr>\n",
       "      <th>2</th>\n",
       "      <td>{u'Good for Kids': True}</td>\n",
       "      <td>2.5</td>\n",
       "      <td>[Active Life, Mini Golf, Golf]</td>\n",
       "      <td>Bethel Park</td>\n",
       "      <td>Cool Springs Golf Center</td>\n",
       "      <td>5</td>\n",
       "    </tr>\n",
       "    <tr>\n",
       "      <th>3</th>\n",
       "      <td>{}</td>\n",
       "      <td>3.5</td>\n",
       "      <td>[Shopping, Home Services, Internet Service Pro...</td>\n",
       "      <td>Pittsburgh</td>\n",
       "      <td>Verizon Wireless</td>\n",
       "      <td>3</td>\n",
       "    </tr>\n",
       "    <tr>\n",
       "      <th>4</th>\n",
       "      <td>{u'Alcohol': u'full_bar', u'Noise Level': u'av...</td>\n",
       "      <td>4.5</td>\n",
       "      <td>[Bars, American (New), Nightlife, Lounges, Res...</td>\n",
       "      <td>Braddock</td>\n",
       "      <td>Emil's Lounge</td>\n",
       "      <td>11</td>\n",
       "    </tr>\n",
       "  </tbody>\n",
       "</table>\n",
       "</div>"
      ],
      "text/plain": [
       "                                          attributes  bus_stars  \\\n",
       "0                     {u'By Appointment Only': True}        3.5   \n",
       "1  {u'Happy Hour': True, u'Accepts Credit Cards':...        3.5   \n",
       "2                           {u'Good for Kids': True}        2.5   \n",
       "3                                                 {}        3.5   \n",
       "4  {u'Alcohol': u'full_bar', u'Noise Level': u'av...        4.5   \n",
       "\n",
       "                                          categories         city  \\\n",
       "0                        [Doctors, Health & Medical]      Phoenix   \n",
       "1                                        [Nightlife]   Dravosburg   \n",
       "2                     [Active Life, Mini Golf, Golf]  Bethel Park   \n",
       "3  [Shopping, Home Services, Internet Service Pro...   Pittsburgh   \n",
       "4  [Bars, American (New), Nightlife, Lounges, Res...     Braddock   \n",
       "\n",
       "                       name  review_count  \n",
       "0         Eric Goldberg, MD             9  \n",
       "1              Clancy's Pub             4  \n",
       "2  Cool Springs Golf Center             5  \n",
       "3          Verizon Wireless             3  \n",
       "4             Emil's Lounge            11  "
      ]
     },
     "execution_count": 22,
     "metadata": {},
     "output_type": "execute_result"
    }
   ],
   "source": [
    "\n",
    "\n",
    "businesses_raw = open('yelp_academic_dataset_business.json', 'r')\n",
    "\n",
    "\n",
    "counter = 0\n",
    "\n",
    "business_dict = defaultdict(list)\n",
    "\n",
    "for line in businesses_raw:\n",
    "    if counter >= 6:\n",
    "        break\n",
    "    #print line\n",
    "    line_json = json.loads(line)\n",
    "    \n",
    "    city = line_json['city']\n",
    "    bus_stars = line_json['stars']\n",
    "    review_count = line_json['review_count']\n",
    "    categories = line_json['categories']\n",
    "    attributes = line_json['attributes']\n",
    "    name = line_json['name']\n",
    "    #bus_stars = line_json['stars']\n",
    "    \n",
    "    business_dict['city'].append(city)\n",
    "    business_dict['bus_stars'].append(bus_stars)  \n",
    "    business_dict['review_count'].append(review_count) \n",
    "    business_dict['categories'].append(categories) \n",
    "    business_dict['attributes'].append(attributes) \n",
    "    business_dict['name'].append(name) \n",
    "    #business_dict['bus_stars'].append(bus_stars) \n",
    "    print line_json\n",
    "    \n",
    "\n",
    "    #print user_id, business_id, stars\n",
    "    counter += 1\n",
    "\n",
    "#print dict(data_dict)\n",
    "    \n",
    "businesses_raw.close() \n",
    "\n",
    "df_bus = pd.DataFrame(business_dict)\n",
    "df_bus.head()\n",
    "\n",
    "#try using the difference between the business rating and hte user rating to determine how much a user relatively likes it? "
   ]
  },
  {
   "cell_type": "code",
   "execution_count": null,
   "metadata": {
    "collapsed": true
   },
   "outputs": [],
   "source": []
  }
 ],
 "metadata": {
  "kernelspec": {
   "display_name": "Python 2",
   "language": "python",
   "name": "python2"
  },
  "language_info": {
   "codemirror_mode": {
    "name": "ipython",
    "version": 2
   },
   "file_extension": ".py",
   "mimetype": "text/x-python",
   "name": "python",
   "nbconvert_exporter": "python",
   "pygments_lexer": "ipython2",
   "version": "2.7.10"
  }
 },
 "nbformat": 4,
 "nbformat_minor": 0
}
