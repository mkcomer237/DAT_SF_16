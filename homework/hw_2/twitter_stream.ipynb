{
 "cells": [
  {
   "cell_type": "code",
   "execution_count": null,
   "metadata": {
    "collapsed": true
   },
   "outputs": [],
   "source": [
    "# 1. Access the twitter api to download a bunch of tweets about san fransisco. I ran this from the command line to pipe data to a file\n",
    "\n",
    "import tweepy\n",
    "from tweepy.streaming import StreamListener\n",
    "from tweepy import OAuthHandler\n",
    "from tweepy import Stream\n",
    "\n",
    "#print 'Begin script...'\n",
    "\n",
    "consumer_key = \"IyhOZXYvlps1ABWB6UWMBmVsh\"\n",
    "consumer_secret =  \"SIFfJp78RCcBS3JmECj7ZS4MuJ8apYqtNMbAC3Zy7xd2Szg5Wq\"\n",
    "access_token = '1411256130-wJk78NyXkZLJlPVsGCHq8mgtX0wHcDanc73fy0k'\n",
    "access_token_secret = 'sNPVmByioAhvlcQXHVmg2wd5lU3RJZF5drDcrsx0kaOCi'\n",
    "\n",
    "\n",
    "#This is a basic listener that just prints received tweets to stdout.\n",
    "class StdOutListener(StreamListener):\n",
    " \n",
    "    def on_data(self, data):\n",
    "        print data\n",
    "        return True\n",
    "\n",
    "    def on_error(self, status):\n",
    "        print status\n",
    "\n",
    "#This handles Twitter authetification and the connection to Twitter Streaming API\n",
    "mylistener = StdOutListener()\n",
    "auth = OAuthHandler(consumer_key, consumer_secret)\n",
    "auth.set_access_token(access_token, access_token_secret)\n",
    "mystream = Stream(auth, mylistener)\n",
    "\n",
    "#print 'starting...'\n",
    "mystream.filter(track=['sanfrancisco'])"
   ]
  },
  {
   "cell_type": "code",
   "execution_count": null,
   "metadata": {
    "collapsed": true
   },
   "outputs": [],
   "source": [
    "#2.  What other hashtags are the most common in tweets about san francisco?  \n",
    "#    What's the average number of followers for people tweeting about SF?  "
   ]
  },
  {
   "cell_type": "code",
   "execution_count": 20,
   "metadata": {
    "collapsed": false
   },
   "outputs": [
    {
     "name": "stdout",
     "output_type": "stream",
     "text": [
      "   followers                                          hashtags languages\n",
      "0          7                           [SanFrancisco, Escorts]        en\n",
      "1        450                           [SanFrancisco, Escorts]        en\n",
      "2        391         [Investment, Control, SanFrancisco, jobs]        en\n",
      "3        258                       [unionsquare, SanFrancisco]        en\n",
      "4        346  [SanFrancisco, IT, Job, Jobs, Hiring, CareerArc]        en\n",
      "5        192            [SanFrancisco, Luxury, Travel, Foodie]     en-gb\n",
      "6         31                                             [job]        en\n",
      "7         48            [sanfrancisco, enneagramhq, enneagram]        en\n",
      "8       2814                    [hiphop, travel, SanFrancisco]        en\n",
      "9         81                         [SanFrancisco, FullHouse]        en\n",
      "<class 'pandas.core.frame.DataFrame'>\n",
      "Int64Index: 59 entries, 0 to 58\n",
      "Data columns (total 3 columns):\n",
      "followers    59 non-null int64\n",
      "hashtags     59 non-null object\n",
      "languages    59 non-null object\n",
      "dtypes: int64(1), object(2)\n",
      "memory usage: 1.8+ KB\n",
      "None\n"
     ]
    }
   ],
   "source": [
    "#4.  Parse out the json structure of each tweet and load into a Pandas dataframe\n",
    "\n",
    "import pprint\n",
    "import json\n",
    "import pandas as pd\n",
    "\n",
    "rawfile = open('sf_tweets.txt', 'r')\n",
    "\n",
    "languages_l, followers_l, hashtags_l = [], [], []\n",
    "\n",
    "for line in rawfile:\n",
    "\n",
    "    cleanline = line.strip()\n",
    "    if cleanline == '':\n",
    "        continue \n",
    "\n",
    "    tweetfull = json.loads(line.strip())\n",
    "    #pprint.pprint(tweetfull)\n",
    "    \n",
    "    hashtags = []\n",
    "    for tag in tweetfull['entities']['hashtags']:\n",
    "        hashtags.append(tag['text'])\n",
    "    #print hashtags\n",
    "    language = tweetfull['user']['lang']\n",
    "    #print language\n",
    "    followers = tweetfull['user']['followers_count']\n",
    "\n",
    "    languages_l.append(language)\n",
    "    followers_l.append(followers)\n",
    "    hashtags_l.append(hashtags)\n",
    "    \n",
    "df = pd.DataFrame({'languages': languages_l, 'followers': followers_l, 'hashtags': hashtags_l})\n",
    "    \n",
    "print df.head(10)\n",
    "print df.info()\n"
   ]
  },
  {
   "cell_type": "code",
   "execution_count": 38,
   "metadata": {
    "collapsed": false
   },
   "outputs": [
    {
     "name": "stdout",
     "output_type": "stream",
     "text": [
      "730.661016949\n",
      "                  0\n",
      "SanFrancisco     46\n",
      "jobs              9\n",
      "Hiring            9\n",
      "CareerArc         8\n",
      "job               7\n",
      "sanfrancisco      7\n",
      "Job               6\n",
      "Jobs              6\n",
      "hiring            5\n",
      "followforfollow   3\n",
      "<class 'pandas.core.frame.DataFrame'>\n",
      "Index: 82 entries, SanFrancisco to English\n",
      "Data columns (total 1 columns):\n",
      "0    82 non-null int64\n",
      "dtypes: int64(1)\n",
      "memory usage: 1.3+ KB\n",
      "None\n"
     ]
    }
   ],
   "source": [
    "#5.  Answer my quesions about the hashtags and average followers \n",
    "\n",
    "import pprint\n",
    "\n",
    "print df.followers.mean()\n",
    "\n",
    "tag_frequency = {}\n",
    "\n",
    "for taglist in df.hashtags:\n",
    "    for tag in taglist:\n",
    "        tag_frequency[tag] = tag_frequency.get(tag, 0) + 1\n",
    "\n",
    "\n",
    "df_frequency = pd.DataFrame.from_dict(tag_frequency, orient='index')\n",
    "\n",
    "df_frequency.sort(columns=0, inplace=True, ascending=False)\n",
    "print df_frequency.head(10)\n",
    "print df_frequency.info()\n",
    "\n",
    "\n"
   ]
  },
  {
   "cell_type": "code",
   "execution_count": null,
   "metadata": {
    "collapsed": true
   },
   "outputs": [],
   "source": []
  }
 ],
 "metadata": {
  "kernelspec": {
   "display_name": "Python 2",
   "language": "python",
   "name": "python2"
  },
  "language_info": {
   "codemirror_mode": {
    "name": "ipython",
    "version": 2
   },
   "file_extension": ".py",
   "mimetype": "text/x-python",
   "name": "python",
   "nbconvert_exporter": "python",
   "pygments_lexer": "ipython2",
   "version": "2.7.9"
  }
 },
 "nbformat": 4,
 "nbformat_minor": 0
}
