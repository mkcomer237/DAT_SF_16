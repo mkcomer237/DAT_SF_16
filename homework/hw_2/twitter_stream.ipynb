{
 "cells": [
  {
   "cell_type": "code",
   "execution_count": null,
   "metadata": {
    "collapsed": true
   },
   "outputs": [],
   "source": [
    "# 1. Access the twitter api to download a bunch of tweets about san fransisco. \n",
    "#    I ran this from the command line to pipe data to a file\n",
    "\n",
    "import tweepy\n",
    "from tweepy.streaming import StreamListener\n",
    "from tweepy import OAuthHandler\n",
    "from tweepy import Stream\n",
    "\n",
    "#print 'Begin script...'\n",
    "\n",
    "consumer_key = \"IyhOZXYvlps1ABWB6UWMBmVsh\"\n",
    "consumer_secret =  \"SIFfJp78RCcBS3JmECj7ZS4MuJ8apYqtNMbAC3Zy7xd2Szg5Wq\"\n",
    "access_token = '1411256130-wJk78NyXkZLJlPVsGCHq8mgtX0wHcDanc73fy0k'\n",
    "access_token_secret = 'sNPVmByioAhvlcQXHVmg2wd5lU3RJZF5drDcrsx0kaOCi'\n",
    "\n",
    "\n",
    "#This is a basic listener that just prints received tweets to stdout.\n",
    "class StdOutListener(StreamListener):\n",
    " \n",
    "    def on_data(self, data):\n",
    "        print data\n",
    "        return True\n",
    "\n",
    "    def on_error(self, status):\n",
    "        print status\n",
    "\n",
    "#This handles Twitter authetification and the connection to Twitter Streaming API\n",
    "mylistener = StdOutListener()\n",
    "auth = OAuthHandler(consumer_key, consumer_secret)\n",
    "auth.set_access_token(access_token, access_token_secret)\n",
    "mystream = Stream(auth, mylistener)\n",
    "\n",
    "#print 'starting...'\n",
    "mystream.filter(track=['sanfrancisco'])"
   ]
  },
  {
   "cell_type": "code",
   "execution_count": null,
   "metadata": {
    "collapsed": true
   },
   "outputs": [],
   "source": [
    "#2.  What other hashtags are the most common in tweets about san francisco?  \n",
    "#    What's the average number of followers for people tweeting about SF?  "
   ]
  },
  {
   "cell_type": "code",
   "execution_count": 40,
   "metadata": {
    "collapsed": false
   },
   "outputs": [
    {
     "name": "stdout",
     "output_type": "stream",
     "text": [
      "   followers                                           hashtags languages\n",
      "0        489                 [Oracle, Unix, SanFrancisco, jobs]        en\n",
      "1        552  [SanFrancisco, Sales, Job, Jobs, Hiring, Caree...        en\n",
      "2         15                             [Travel, SanFrancisco]        en\n",
      "3      28226  [SanFrancisco, Nike, Broncos, PeytonManning, J...        en\n",
      "4        102  [MondayMotivation, jenselter, seltering, gymti...        en\n",
      "5       1760                                     [sanfrancisco]        en\n",
      "6       1760                                     [sanfrancisco]        en\n",
      "7       1760                        [FeelTheBern, sanfrancisco]        en\n",
      "8       1760                                     [sanfrancisco]        en\n",
      "9       1760                                     [sanfrancisco]        en\n",
      "<class 'pandas.core.frame.DataFrame'>\n",
      "Int64Index: 245 entries, 0 to 244\n",
      "Data columns (total 3 columns):\n",
      "followers    245 non-null int64\n",
      "hashtags     245 non-null object\n",
      "languages    245 non-null object\n",
      "dtypes: int64(1), object(2)\n",
      "memory usage: 7.7+ KB\n",
      "None\n"
     ]
    }
   ],
   "source": [
    "#4.  Parse out the json structure of each tweet and load into a Pandas dataframe\n",
    "\n",
    "import pprint\n",
    "import json\n",
    "import pandas as pd\n",
    "\n",
    "rawfile = open('sf_tweets.txt', 'r')\n",
    "\n",
    "languages_l, followers_l, hashtags_l = [], [], []\n",
    "\n",
    "for line in rawfile:\n",
    "\n",
    "    cleanline = line.strip()\n",
    "    if cleanline == '':\n",
    "        continue \n",
    "\n",
    "    tweetfull = json.loads(line.strip())\n",
    "    #pprint.pprint(tweetfull)\n",
    "    \n",
    "    hashtags = []\n",
    "    for tag in tweetfull['entities']['hashtags']:\n",
    "        hashtags.append(tag['text'])\n",
    "    #print hashtags\n",
    "    language = tweetfull['user']['lang']\n",
    "    #print language\n",
    "    followers = tweetfull['user']['followers_count']\n",
    "\n",
    "    languages_l.append(language)\n",
    "    followers_l.append(followers)\n",
    "    hashtags_l.append(hashtags)\n",
    "    \n",
    "rawfile.close()\n",
    "df = pd.DataFrame({'languages': languages_l, 'followers': followers_l, 'hashtags': hashtags_l})\n",
    "    \n",
    "print df.head(10)\n",
    "print df.info()\n"
   ]
  },
  {
   "cell_type": "code",
   "execution_count": 45,
   "metadata": {
    "collapsed": false
   },
   "outputs": [
    {
     "name": "stdout",
     "output_type": "stream",
     "text": [
      "1537.05306122\n",
      "                     0\n",
      "sanfrancisco       215\n",
      "job                 70\n",
      "jobs                62\n",
      "hiring              42\n",
      "careerarc           25\n",
      "travel              14\n",
      "engineer            13\n",
      "amazonfulfillment   12\n",
      "sf                   9\n",
      "sales                8\n",
      "amazon               8\n",
      "reporting            8\n",
      "software             8\n",
      "california           7\n",
      "music                5\n",
      "<class 'pandas.core.frame.DataFrame'>\n",
      "Index: 288 entries, sanfrancisco to summer\n",
      "Data columns (total 1 columns):\n",
      "0    288 non-null int64\n",
      "dtypes: int64(1)\n",
      "memory usage: 4.5+ KB\n",
      "None\n"
     ]
    }
   ],
   "source": [
    "#5.  Answer my quesions about the hashtags and average followers \n",
    "\n",
    "import pprint\n",
    "\n",
    "print df.followers.mean()\n",
    "\n",
    "tag_frequency = {}\n",
    "\n",
    "for taglist in df.hashtags:\n",
    "    for tag in taglist:\n",
    "        tag_frequency[tag.lower()] = tag_frequency.get(tag.lower(), 0) + 1\n",
    "\n",
    "\n",
    "df_frequency = pd.DataFrame.from_dict(tag_frequency, orient='index')\n",
    "\n",
    "df_frequency.sort(columns=0, inplace=True, ascending=False)\n",
    "print df_frequency.head(15)\n",
    "print df_frequency.info()\n",
    "\n",
    "\n"
   ]
  },
  {
   "cell_type": "code",
   "execution_count": 50,
   "metadata": {
    "collapsed": false
   },
   "outputs": [
    {
     "ename": "ImportError",
     "evalue": "cannot import name vplot",
     "output_type": "error",
     "traceback": [
      "\u001b[1;31m---------------------------------------------------------------------------\u001b[0m",
      "\u001b[1;31mImportError\u001b[0m                               Traceback (most recent call last)",
      "\u001b[1;32m<ipython-input-50-73185ed519de>\u001b[0m in \u001b[0;36m<module>\u001b[1;34m()\u001b[0m\n\u001b[0;32m      2\u001b[0m \u001b[1;33m\u001b[0m\u001b[0m\n\u001b[0;32m      3\u001b[0m \u001b[1;32mimport\u001b[0m \u001b[0mnumpy\u001b[0m \u001b[1;32mas\u001b[0m \u001b[0mnp\u001b[0m\u001b[1;33m\u001b[0m\u001b[0m\n\u001b[1;32m----> 4\u001b[1;33m \u001b[1;32mfrom\u001b[0m \u001b[0mbokeh\u001b[0m\u001b[1;33m.\u001b[0m\u001b[0mplotting\u001b[0m \u001b[1;32mimport\u001b[0m \u001b[0mfigure\u001b[0m\u001b[1;33m,\u001b[0m \u001b[0moutput_notebook\u001b[0m\u001b[1;33m,\u001b[0m\u001b[0mshow\u001b[0m\u001b[1;33m,\u001b[0m\u001b[0mvplot\u001b[0m\u001b[1;33m\u001b[0m\u001b[0m\n\u001b[0m\u001b[0;32m      5\u001b[0m \u001b[1;33m\u001b[0m\u001b[0m\n\u001b[0;32m      6\u001b[0m \u001b[0mp1\u001b[0m \u001b[1;33m=\u001b[0m \u001b[0mfigure\u001b[0m\u001b[1;33m(\u001b[0m\u001b[0mtitle\u001b[0m\u001b[1;33m=\u001b[0m\u001b[1;34m\"Followers Histogram\"\u001b[0m\u001b[1;33m,\u001b[0m\u001b[0mx_axis_label\u001b[0m \u001b[1;33m=\u001b[0m \u001b[1;34m'Followers'\u001b[0m\u001b[1;33m,\u001b[0m\u001b[0my_axis_label\u001b[0m \u001b[1;33m=\u001b[0m \u001b[1;34m'Count'\u001b[0m\u001b[1;33m)\u001b[0m\u001b[1;33m\u001b[0m\u001b[0m\n",
      "\u001b[1;31mImportError\u001b[0m: cannot import name vplot"
     ]
    }
   ],
   "source": [
    "#6.  Use Bokeh to make a vizualization of the data \n",
    "\n",
    "import numpy as np\n",
    "from bokeh.plotting import figure, output_notebook,show,vplot\n",
    "\n",
    "p1 = figure(title=\"Followers Histogram\",x_axis_label = 'Followers',y_axis_label = 'Count')\n",
    "#construct the histogram\n",
    "hist, edges = np.histogram(df.followers.values, density=True, bins=50)\n",
    "#Construct your x axis\n",
    "x = np.linspace(df.followers.min(),df.followers.max(),100)\n",
    "#add the bars, scaling the value to the full count of people\n",
    "p1.quad(top=hist*len(df.followers), bottom=0, left=edges[:-1], right=edges[1:],line_color='black')\n",
    "\n",
    "\n",
    "p2 = figure(title=\"Followers Histogram\",x_axis_label = 'Followers',y_axis_label = 'Count')\n",
    "hist, edges = np.histogram(df.followers.values, density=True, bins=50)\n",
    "x = np.linspace(df.followers.min(),df.followers.max(),100)\n",
    "p2.quad(top=hist*len(df.followers), bottom=0, left=edges[:-1], right=edges[1:],line_color='black')\n",
    "\n",
    "\n",
    "show(vplot(p1,p2))\n",
    "\n"
   ]
  },
  {
   "cell_type": "code",
   "execution_count": null,
   "metadata": {
    "collapsed": true
   },
   "outputs": [],
   "source": []
  }
 ],
 "metadata": {
  "kernelspec": {
   "display_name": "Python 2",
   "language": "python",
   "name": "python2"
  },
  "language_info": {
   "codemirror_mode": {
    "name": "ipython",
    "version": 2
   },
   "file_extension": ".py",
   "mimetype": "text/x-python",
   "name": "python",
   "nbconvert_exporter": "python",
   "pygments_lexer": "ipython2",
   "version": "2.7.9"
  }
 },
 "nbformat": 4,
 "nbformat_minor": 0
}
